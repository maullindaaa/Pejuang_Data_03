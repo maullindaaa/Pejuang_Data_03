{
  "nbformat": 4,
  "nbformat_minor": 0,
  "metadata": {
    "colab": {
      "name": "M3P2V1_Function.ipynb",
      "provenance": [],
      "authorship_tag": "ABX9TyP+DM0l7e+JbcDKHzdUlepF",
      "include_colab_link": true
    },
    "kernelspec": {
      "name": "python3",
      "display_name": "Python 3"
    },
    "language_info": {
      "name": "python"
    }
  },
  "cells": [
    {
      "cell_type": "markdown",
      "metadata": {
        "id": "view-in-github",
        "colab_type": "text"
      },
      "source": [
        "<a href=\"https://colab.research.google.com/github/maullindaaa/Pejuang_Data_03/blob/main/M3P2V1_Function.ipynb\" target=\"_parent\"><img src=\"https://colab.research.google.com/assets/colab-badge.svg\" alt=\"Open In Colab\"/></a>"
      ]
    },
    {
      "cell_type": "markdown",
      "metadata": {
        "id": "RMSEb_hIPf7K"
      },
      "source": [
        "#Function\n",
        "Function(Fungsi) adalah sebuah blok statemen yang akan dijalankan saat dipanggil.\n",
        "\n",
        "Fungsi len() untuk mengukur jumlah elemen dalam sebuah list dan fungsi print() untuk menampilka pesan pada layar konsol merupakan contoh dari bentuk fungsi yang telah disediakan oleh bahasa pemrograman Python atau dengan kata lain built in functions.\n",
        "\n",
        "Selain fungsi yang telah disediakan oleh Python. Python mengizinkan untuk mendeklarasikan fungsi dalam kode yang dituliskan yang dikenal dengan user defined function.\n",
        "\n",
        "\n",
        "```\n",
        "def nama_fungsi(argument):\n",
        "    statement_t\n",
        "    -\n",
        "    statement_n\n",
        "    return returned_value\n",
        "```\n",
        "\n",
        "\n",
        "\n",
        "\n",
        "*   **nama_fungsi** adalah nama untuk fungsi yang anda definisikan, memiliki aturan seperti penamaan variabel\n",
        "*   **argument** adalah variabel masukan ke fungsi, bisa tanpa variabel, satu variabel atau lebih\n",
        "*   **statement_1** ... statement_n adalah algoritma yang telah anda transfer dalam bahasa Python yang merupakan inti dari fungsi yang anda definisikan. Seluruh statemenr adalah menjorok (indent) ke dalam seperti yang pernah anda pelajari pada conditioning dan looping\n",
        "*   **return_value** adalah variabel output dari fungsi anda, bisa tanpa variabel, satu variabe atau lebih.\n",
        "\n",
        "\n",
        "#Argument dan Parameter\n",
        "\n",
        "\n",
        "*   **Parameter** adalah variabel yang digunakan dalam deklarasi fungsi\n",
        "*   **Argumen** adalah nilai yang diberikan saat pemanggilan fungsi.\n",
        "\n",
        "\n",
        "\n",
        "\n"
      ]
    },
    {
      "cell_type": "code",
      "metadata": {
        "colab": {
          "base_uri": "https://localhost:8080/"
        },
        "id": "Y1ZsCazSOejj",
        "outputId": "dc81dd83-1af5-44ff-b84d-8c622c419678"
      },
      "source": [
        "def print_nama(nama):  #'nama' adalah parameter\n",
        "  print(nama)\n",
        "\n",
        "print_nama('Budi') # 'Budi' adalah argumen"
      ],
      "execution_count": 1,
      "outputs": [
        {
          "output_type": "stream",
          "name": "stdout",
          "text": [
            "Budi\n"
          ]
        }
      ]
    },
    {
      "cell_type": "markdown",
      "metadata": {
        "id": "5YK0deFYTkwl"
      },
      "source": [
        "#Argumen posisi dan kata kunci\n",
        "kita bisa menyatakan argumen sebagai argumen posisi atau kata kunci. Beberapa manfaat argumen kata kunci dapa berupa:\n",
        "\n",
        "\n",
        "*   kita dapat menyebut argumen dengan nama mereka untuk memperjelas apa yang mereka wakili\n",
        "*   kita dapat mengatur ulang argumen dengan cara yang membuatnya paling mudah dibaca\n",
        "\n"
      ]
    },
    {
      "cell_type": "code",
      "metadata": {
        "colab": {
          "base_uri": "https://localhost:8080/"
        },
        "id": "ilZ7HX1gVoCC",
        "outputId": "2b68b191-7593-4aec-961f-4ac33d1a99cf"
      },
      "source": [
        "def angka(a,b,c):\n",
        "  print(a,b,c)\n",
        "\n",
        "#argumen posisi\n",
        "#argumen berdasakan posisinya\n",
        "angka(1,2,3)\n",
        "\n",
        "# argumen berdasarkan kata kuncinya\n",
        "angka(a=1, b=2, c=3)\n",
        "angka(c=3, b=2, a=1)\n",
        "# Catatan: jika sudah diberi kunci maka urutan tidak menjadi penting\n",
        "\n",
        "# campuran antara argumen posisi dan argumen kata kunci\n",
        "angka(1, b=2, c=3)\n",
        "\n",
        "#ini tidak diijinkan:\n",
        "# foo(1, b=2, 3) #argumen posisional setelah argumen kunci\n",
        "# foo(1, b=2, a=3) #terdapat dua nilai untuk argumen kunci 'a'"
      ],
      "execution_count": 3,
      "outputs": [
        {
          "output_type": "stream",
          "name": "stdout",
          "text": [
            "1 2 3\n",
            "1 2 3\n",
            "1 2 3\n",
            "1 2 3\n"
          ]
        }
      ]
    },
    {
      "cell_type": "markdown",
      "metadata": {
        "id": "_Kw34pI0jQeP"
      },
      "source": [
        "#Argumen Default\n",
        "Fungsi dapat memiliki argumen default dengan nilai yang telah ditentukan sebelumnya. Argumen ini dapat di tinggalkan dan nilai default kemudian diteruskan ke fungsi, atau argumen dapat dirubah dengan nilai yang berbeda. Perhatikan bahwa argumen default harus ditentukan sebagai parameter terakhir dalam suatu fungsi."
      ]
    },
    {
      "cell_type": "code",
      "metadata": {
        "colab": {
          "base_uri": "https://localhost:8080/"
        },
        "id": "Rte31v9MjvV-",
        "outputId": "44357178-64de-4715-f638-65e2ce72d183"
      },
      "source": [
        "#Argumen default\n",
        "def angka2(a, b, c, d=4):\n",
        "  print(a, b, c, d)\n",
        "\n",
        "angka2(1, 2, 3, 4)\n",
        "angka2(1, b=2, c=3, d=100)\n",
        "\n",
        "#Argumen default harus diletakkan terakhir"
      ],
      "execution_count": 6,
      "outputs": [
        {
          "output_type": "stream",
          "name": "stdout",
          "text": [
            "1 2 3 4\n",
            "1 2 3 100\n"
          ]
        }
      ]
    },
    {
      "cell_type": "markdown",
      "metadata": {
        "id": "O6hElxWHkh8_"
      },
      "source": [
        "#Praktik Membuat Fungsi"
      ]
    },
    {
      "cell_type": "code",
      "metadata": {
        "colab": {
          "base_uri": "https://localhost:8080/"
        },
        "id": "Ox8KlOIYkk83",
        "outputId": "9f864ffc-11c2-4c59-d91a-f0c7ef971622"
      },
      "source": [
        "x=1\n",
        "y=2\n",
        "x*y"
      ],
      "execution_count": 7,
      "outputs": [
        {
          "output_type": "execute_result",
          "data": {
            "text/plain": [
              "2"
            ]
          },
          "metadata": {},
          "execution_count": 7
        }
      ]
    },
    {
      "cell_type": "code",
      "metadata": {
        "colab": {
          "base_uri": "https://localhost:8080/"
        },
        "id": "Qe4MFmi0kqdh",
        "outputId": "42bd5ccf-daad-47a5-b523-baf4bbeeda47"
      },
      "source": [
        "def penjumlahan(x,y): #input\n",
        "  a=x+y               #proses\n",
        "  return a            #output\n",
        "\n",
        "penjumlahan(1,2)      #menggunakan fungsi"
      ],
      "execution_count": 8,
      "outputs": [
        {
          "output_type": "execute_result",
          "data": {
            "text/plain": [
              "3"
            ]
          },
          "metadata": {},
          "execution_count": 8
        }
      ]
    },
    {
      "cell_type": "markdown",
      "metadata": {
        "id": "58u3-9KslBNn"
      },
      "source": [
        "penjumlahan yang memungkinkan untuk tiga bilangan"
      ]
    },
    {
      "cell_type": "code",
      "metadata": {
        "colab": {
          "base_uri": "https://localhost:8080/"
        },
        "id": "kihleSTClGzo",
        "outputId": "989689a7-d843-40b4-a70d-c1e69c48faf2"
      },
      "source": [
        "def penjumlahan(x,y,z=None):\n",
        "  if(z==None):\n",
        "    return x+y\n",
        "  else:\n",
        "    return x+y+z\n",
        "\n",
        "print(penjumlahan(1,2))\n",
        "print(penjumlahan(1,2,3))"
      ],
      "execution_count": 9,
      "outputs": [
        {
          "output_type": "stream",
          "name": "stdout",
          "text": [
            "3\n",
            "6\n"
          ]
        }
      ]
    },
    {
      "cell_type": "markdown",
      "metadata": {
        "id": "P291gv81leKL"
      },
      "source": [
        "menyimpan hasil fungsi dalam variabel"
      ]
    },
    {
      "cell_type": "code",
      "metadata": {
        "colab": {
          "base_uri": "https://localhost:8080/"
        },
        "id": "W6reT8bJlqG1",
        "outputId": "08e343c4-9246-4793-dc07-c545712dfa94"
      },
      "source": [
        "def penjumlahan(x,y):\n",
        "  return x+y\n",
        "\n",
        "a = penjumlahan\n",
        "a(1,2)"
      ],
      "execution_count": 10,
      "outputs": [
        {
          "output_type": "execute_result",
          "data": {
            "text/plain": [
              "3"
            ]
          },
          "metadata": {},
          "execution_count": 10
        }
      ]
    },
    {
      "cell_type": "markdown",
      "metadata": {
        "id": "eSwAGiKVmFWv"
      },
      "source": [
        "#Latihan 1\n",
        "Buatlah Function pythagoras dengan input argumennya panjang tinggi dan alas segitiga untuk menghasilkan output nilai panjang sisi miring."
      ]
    },
    {
      "cell_type": "code",
      "metadata": {
        "colab": {
          "base_uri": "https://localhost:8080/"
        },
        "id": "a7tIgRdvmVNJ",
        "outputId": "1af9f6a7-0685-4120-f5f2-23a626969d15"
      },
      "source": [
        "# Ketikkan codemu\n",
        "\n",
        "def pythagoras(a,t):\n",
        "  p = ((a**2)+(t**2))**(1/2)\n",
        "  return p\n",
        "\n",
        "pythagoras(9,12)"
      ],
      "execution_count": 15,
      "outputs": [
        {
          "output_type": "execute_result",
          "data": {
            "text/plain": [
              "15.0"
            ]
          },
          "metadata": {},
          "execution_count": 15
        }
      ]
    },
    {
      "cell_type": "markdown",
      "metadata": {
        "id": "iNNem2RAmYec"
      },
      "source": [
        "#Latihan 2\n",
        "Buatlah function luas permukaan balok dengan input argumennya panjang,lebar,dan tinggi dari balok untuk menghasikan output nilai luas permukaan balok tersebut."
      ]
    },
    {
      "cell_type": "code",
      "metadata": {
        "colab": {
          "base_uri": "https://localhost:8080/"
        },
        "id": "mDqHT7HImwO8",
        "outputId": "89e5f533-f00f-4de6-d154-e6b0a9ecc3b7"
      },
      "source": [
        "#Ketikkan codemu\n",
        "\n",
        "def luas_perm_balok(p,l,t):\n",
        "  L=(2*((p*l)+(p*t)+(l*t)))\n",
        "  return L\n",
        "\n",
        "luas_perm_balok(18,8,12)"
      ],
      "execution_count": 17,
      "outputs": [
        {
          "output_type": "execute_result",
          "data": {
            "text/plain": [
              "912"
            ]
          },
          "metadata": {},
          "execution_count": 17
        }
      ]
    }
  ]
}