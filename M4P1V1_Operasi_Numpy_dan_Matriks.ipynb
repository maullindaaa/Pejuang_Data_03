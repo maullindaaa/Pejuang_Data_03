{
  "nbformat": 4,
  "nbformat_minor": 0,
  "metadata": {
    "colab": {
      "name": "M4P1V1_Operasi_Numpy_dan_Matriks.ipynb",
      "provenance": [],
      "authorship_tag": "ABX9TyNXuwERB6GGR7wKafkw631v",
      "include_colab_link": true
    },
    "kernelspec": {
      "name": "python3",
      "display_name": "Python 3"
    },
    "language_info": {
      "name": "python"
    }
  },
  "cells": [
    {
      "cell_type": "markdown",
      "metadata": {
        "id": "view-in-github",
        "colab_type": "text"
      },
      "source": [
        "<a href=\"https://colab.research.google.com/github/maullindaaa/Pejuang_Data_03/blob/main/M4P1V1_Operasi_Numpy_dan_Matriks.ipynb\" target=\"_parent\"><img src=\"https://colab.research.google.com/assets/colab-badge.svg\" alt=\"Open In Colab\"/></a>"
      ]
    },
    {
      "cell_type": "markdown",
      "metadata": {
        "id": "ydsMhdk1Bz64"
      },
      "source": [
        "#Numpy Array\n",
        "Numpy merupakan salah satu library Pythin yang banyak digunakan dalam proses analisis data karena fiturnya yang hebat"
      ]
    },
    {
      "cell_type": "code",
      "metadata": {
        "id": "BfDO7dMcBpGg"
      },
      "source": [
        "import numpy as np"
      ],
      "execution_count": 4,
      "outputs": []
    },
    {
      "cell_type": "markdown",
      "metadata": {
        "id": "pIRbIp3DCZ2z"
      },
      "source": [
        "#Membuat Array Numpy\n",
        "Kita bisamembuat Array menggunakan Numpy dengan membungkusnya terlebih dahulu di List dan dirubah menjadi numpy array"
      ]
    },
    {
      "cell_type": "code",
      "metadata": {
        "colab": {
          "base_uri": "https://localhost:8080/"
        },
        "id": "pPHmoNZaECLP",
        "outputId": "12db92c9-afb6-4d5d-b3b0-37b2f2662fda"
      },
      "source": [
        "list_1 = [1,2,3,4,5]\n",
        "arr_1 = np.array([list_1])\n",
        "arr_1"
      ],
      "execution_count": 3,
      "outputs": [
        {
          "output_type": "execute_result",
          "data": {
            "text/plain": [
              "array([[1, 2, 3, 4, 5]])"
            ]
          },
          "metadata": {},
          "execution_count": 3
        }
      ]
    },
    {
      "cell_type": "markdown",
      "metadata": {
        "id": "0utyB2LFERRZ"
      },
      "source": [
        "Beberapa fungsi yang dapat digunakan dalam membuat array\n",
        "```\n",
        "zeros()    -> Membuat array dengan nilai 0\n",
        "ones()     -> Membuat array dengan nilai 1\n",
        "arange()   -> Membuat array dengan nilai dalam range \n",
        "linspace() -> Membuat array dengan nilai dalam interval\n",
        "logspace() -> Membuat array dengan nilai log Base10 dalam interval\n",
        "full       -> Membuat array dengan semua elemen penyusunnya sama\n",
        "full_like  -> Membuat array dengan semua elemen penyusunnya sama namun ukurannya dari array lainnya\n",
        "identity   -> Membuat array matriks identitas\n",
        "repeat     -> Membuat array dengan perulangan array atau sequence \n",
        "```\n",
        "\n",
        " "
      ]
    },
    {
      "cell_type": "code",
      "metadata": {
        "colab": {
          "base_uri": "https://localhost:8080/"
        },
        "id": "ELuTq6LhEokG",
        "outputId": "b618815a-79ee-4923-865a-933864a68652"
      },
      "source": [
        "print(np.zeros((2,5))) # membuat array dengan nilai 0 dengan shape(5,5)"
      ],
      "execution_count": 5,
      "outputs": [
        {
          "output_type": "stream",
          "name": "stdout",
          "text": [
            "[[0. 0. 0. 0. 0.]\n",
            " [0. 0. 0. 0. 0.]]\n"
          ]
        }
      ]
    },
    {
      "cell_type": "code",
      "metadata": {
        "colab": {
          "base_uri": "https://localhost:8080/"
        },
        "id": "TkmXjFKqE05C",
        "outputId": "f7c975eb-0dc2-43e1-bd1b-2ea002934143"
      },
      "source": [
        "print(np.ones((5,3))) # membuat array dengan nilai 1 dengan shape (5,5)"
      ],
      "execution_count": 6,
      "outputs": [
        {
          "output_type": "stream",
          "name": "stdout",
          "text": [
            "[[1. 1. 1.]\n",
            " [1. 1. 1.]\n",
            " [1. 1. 1.]\n",
            " [1. 1. 1.]\n",
            " [1. 1. 1.]]\n"
          ]
        }
      ]
    },
    {
      "cell_type": "code",
      "metadata": {
        "colab": {
          "base_uri": "https://localhost:8080/"
        },
        "id": "wvPB7GB6E-HU",
        "outputId": "49302dbe-667d-40d7-dbd9-9feef067e92f"
      },
      "source": [
        "print(np.arange(1, 10, 2)) #arange(start, stop, step)"
      ],
      "execution_count": 7,
      "outputs": [
        {
          "output_type": "stream",
          "name": "stdout",
          "text": [
            "[1 3 5 7 9]\n"
          ]
        }
      ]
    },
    {
      "cell_type": "code",
      "metadata": {
        "colab": {
          "base_uri": "https://localhost:8080/"
        },
        "id": "kueUyY0JFB20",
        "outputId": "3ca1c9b9-8b5c-4ecb-da02-1d95c75af19a"
      },
      "source": [
        "print(np.linspace(1, 10, 2)) # linespace(start, stop, number)"
      ],
      "execution_count": 8,
      "outputs": [
        {
          "output_type": "stream",
          "name": "stdout",
          "text": [
            "[ 1. 10.]\n"
          ]
        }
      ]
    },
    {
      "cell_type": "code",
      "metadata": {
        "colab": {
          "base_uri": "https://localhost:8080/"
        },
        "id": "qRXXJUXGFEDC",
        "outputId": "26a4d884-4155-4c0c-9956-ab1db205fcea"
      },
      "source": [
        "print(np.logspace(1, 10, 2)) # logspace(start, stop, number)"
      ],
      "execution_count": 9,
      "outputs": [
        {
          "output_type": "stream",
          "name": "stdout",
          "text": [
            "[1.e+01 1.e+10]\n"
          ]
        }
      ]
    },
    {
      "cell_type": "code",
      "metadata": {
        "colab": {
          "base_uri": "https://localhost:8080/"
        },
        "id": "GS1TIAC9FTHH",
        "outputId": "8300a476-e04b-4657-add2-e691453bb9e8"
      },
      "source": [
        "print(np.full((2,2), 4)) # Membuat array matriks dengan shape (2,2) dengan elemen 99"
      ],
      "execution_count": 10,
      "outputs": [
        {
          "output_type": "stream",
          "name": "stdout",
          "text": [
            "[[4 4]\n",
            " [4 4]]\n"
          ]
        }
      ]
    },
    {
      "cell_type": "code",
      "metadata": {
        "colab": {
          "base_uri": "https://localhost:8080/"
        },
        "id": "or5IBQmCFYvi",
        "outputId": "972bc985-2d56-4da7-a121-4c8eaed0468e"
      },
      "source": [
        "A = np.array([[1,2,3,4,5,6,7],[8,9,10,11,12,13,14]])\n",
        "print(A)\n",
        "\n",
        "print(np.full_like(A, 3)) # Membuat array matriks dengan shape yang sama dengan A dengan semua elemennya 4"
      ],
      "execution_count": 11,
      "outputs": [
        {
          "output_type": "stream",
          "name": "stdout",
          "text": [
            "[[ 1  2  3  4  5  6  7]\n",
            " [ 8  9 10 11 12 13 14]]\n",
            "[[3 3 3 3 3 3 3]\n",
            " [3 3 3 3 3 3 3]]\n"
          ]
        }
      ]
    },
    {
      "cell_type": "code",
      "metadata": {
        "colab": {
          "base_uri": "https://localhost:8080/"
        },
        "id": "6oqztqr6FeLZ",
        "outputId": "cbec7f57-bd02-4583-fb07-c86dfb81fdb9"
      },
      "source": [
        "print(np.random.rand(4,2)) # Random decimal numbers"
      ],
      "execution_count": 12,
      "outputs": [
        {
          "output_type": "stream",
          "name": "stdout",
          "text": [
            "[[0.32875754 0.95257975]\n",
            " [0.81894906 0.23254669]\n",
            " [0.81898827 0.98688656]\n",
            " [0.45876632 0.34818607]]\n"
          ]
        }
      ]
    },
    {
      "cell_type": "code",
      "metadata": {
        "colab": {
          "base_uri": "https://localhost:8080/"
        },
        "id": "JdRY3ZSAFiDv",
        "outputId": "49c1d4e9-cfa2-49c5-8a02-155e1ab45da7"
      },
      "source": [
        "print(np.random.randint(-4,8, size=(3,3))) # Random Integer values"
      ],
      "execution_count": 13,
      "outputs": [
        {
          "output_type": "stream",
          "name": "stdout",
          "text": [
            "[[-3  6 -2]\n",
            " [ 1  7 -4]\n",
            " [ 7 -2  4]]\n"
          ]
        }
      ]
    },
    {
      "cell_type": "code",
      "metadata": {
        "colab": {
          "base_uri": "https://localhost:8080/"
        },
        "id": "OXFB82cBFkMl",
        "outputId": "6f8538db-d0b1-4769-f853-609867056cf6"
      },
      "source": [
        "print(np.identity(5)) # Membuat matriks identitas"
      ],
      "execution_count": 14,
      "outputs": [
        {
          "output_type": "stream",
          "name": "stdout",
          "text": [
            "[[1. 0. 0. 0. 0.]\n",
            " [0. 1. 0. 0. 0.]\n",
            " [0. 0. 1. 0. 0.]\n",
            " [0. 0. 0. 1. 0.]\n",
            " [0. 0. 0. 0. 1.]]\n"
          ]
        }
      ]
    },
    {
      "cell_type": "code",
      "metadata": {
        "colab": {
          "base_uri": "https://localhost:8080/"
        },
        "id": "ZmSdZRHgFm-I",
        "outputId": "1527bf0c-f213-48d3-ca89-eb15644973d3"
      },
      "source": [
        "arr = np.array([[1,2,3]]) # Membuat matriks dengan perulangan array\n",
        "r1 = np.repeat(arr,3, axis=0)\n",
        "print(r1)"
      ],
      "execution_count": 15,
      "outputs": [
        {
          "output_type": "stream",
          "name": "stdout",
          "text": [
            "[[1 2 3]\n",
            " [1 2 3]\n",
            " [1 2 3]]\n"
          ]
        }
      ]
    },
    {
      "cell_type": "markdown",
      "metadata": {
        "id": "cRLzqWm0Fn0w"
      },
      "source": [
        "#Metode-mwtode pada array\n",
        "Objek array pada Python Numpy memiliki berbagai method untuk melakukan operasi atau perintah-perintah tertentu. Berikut adalah fungsi-fungsi yang merupakan metode pada array yang sering dipakai:"
      ]
    },
    {
      "cell_type": "markdown",
      "metadata": {
        "id": "vQNmxwW2GC0m"
      },
      "source": [
        "**array.ndim**\n",
        "\n",
        "Metode ini digunakan untuk mengetahui dimensi dari array."
      ]
    },
    {
      "cell_type": "code",
      "metadata": {
        "colab": {
          "base_uri": "https://localhost:8080/"
        },
        "id": "BJrPzP2XGHxr",
        "outputId": "f812d9f5-d613-421e-d439-ca2d9066a244"
      },
      "source": [
        "a=np.array([29, 28, 30], dtype='int32')\n",
        "print(a)\n",
        "\n",
        "print(\"Dimensi dari array a adalah \", a.ndim)"
      ],
      "execution_count": 16,
      "outputs": [
        {
          "output_type": "stream",
          "name": "stdout",
          "text": [
            "[29 28 30]\n",
            "Dimensi dari array a adalah  1\n"
          ]
        }
      ]
    },
    {
      "cell_type": "markdown",
      "metadata": {
        "id": "pH33JNRZGKNq"
      },
      "source": [
        "**array.shape**\n",
        "\n",
        "Metode ini digunakan untuk mengetahui ukuran (variabel dan baris) dari array."
      ]
    },
    {
      "cell_type": "code",
      "metadata": {
        "colab": {
          "base_uri": "https://localhost:8080/"
        },
        "id": "AjkkRU07GQsf",
        "outputId": "9a753933-0758-4b6b-ab59-5fbe9a80b2ff"
      },
      "source": [
        "b = np.array([[9.0,8.0,7.0],[6.0,5.0,4.0]])\n",
        "print(b)\n",
        "\n",
        "print(\"Ukuran Shape dari array b adalah \", b.shape)"
      ],
      "execution_count": 17,
      "outputs": [
        {
          "output_type": "stream",
          "name": "stdout",
          "text": [
            "[[9. 8. 7.]\n",
            " [6. 5. 4.]]\n",
            "Ukuran Shape dari array b adalah  (2, 3)\n"
          ]
        }
      ]
    },
    {
      "cell_type": "markdown",
      "metadata": {
        "id": "R7AgTV5iGTHZ"
      },
      "source": [
        "**array.dtype**\n",
        "\n",
        "Metode ini digunakan untuk mengetahui type data dari elemen penyusun array."
      ]
    },
    {
      "cell_type": "code",
      "metadata": {
        "colab": {
          "base_uri": "https://localhost:8080/"
        },
        "id": "I401xQnEGerC",
        "outputId": "d5eddfa9-808f-4c22-c7b9-ed309f938c31"
      },
      "source": [
        "a.dtype"
      ],
      "execution_count": 18,
      "outputs": [
        {
          "output_type": "execute_result",
          "data": {
            "text/plain": [
              "dtype('int32')"
            ]
          },
          "metadata": {},
          "execution_count": 18
        }
      ]
    },
    {
      "cell_type": "markdown",
      "metadata": {
        "id": "CRpOPAiDGhaD"
      },
      "source": [
        "**array.size**\n",
        "\n",
        "Metode ini digunakan untuk menghitung jumlah elemen dari array."
      ]
    },
    {
      "cell_type": "code",
      "metadata": {
        "colab": {
          "base_uri": "https://localhost:8080/"
        },
        "id": "vx9UExGVGlrV",
        "outputId": "6f64ec99-a3ca-4d82-cc70-b077d2b453c8"
      },
      "source": [
        "a.size"
      ],
      "execution_count": 19,
      "outputs": [
        {
          "output_type": "execute_result",
          "data": {
            "text/plain": [
              "3"
            ]
          },
          "metadata": {},
          "execution_count": 19
        }
      ]
    },
    {
      "cell_type": "markdown",
      "metadata": {
        "id": "FGfrPpXdGlI9"
      },
      "source": [
        "## Multidimensional Array\n",
        "\n",
        "Salah satu fitur menarik dari NumPy adalah dia mampu membuat multidimensional array dan melakukan manipulasi array dengan mudah dan cepat\n",
        "\n",
        "Multidimensional array adalah array yang berbentuk lebih dari 1 dimensi (1D), bisa 2D, 3D, 4D dan seterusnya\n",
        "\n",
        "Cara membuat multidimensional array sama dengan membuat array 1 dimensi, perbedaannya hanya pada parameter yang digunakan\n",
        "\n",
        "Berikut contohnya membuat array 2 dimensi\n"
      ]
    },
    {
      "cell_type": "code",
      "metadata": {
        "colab": {
          "base_uri": "https://localhost:8080/"
        },
        "id": "lIGvSjQVHEwW",
        "outputId": "e01a0559-67f2-469e-e889-a600ee79f45b"
      },
      "source": [
        "arr_2 = np.array([[1,2,3,4,5], [2,4,6,8,10]])\n",
        "arr_2"
      ],
      "execution_count": 20,
      "outputs": [
        {
          "output_type": "execute_result",
          "data": {
            "text/plain": [
              "array([[ 1,  2,  3,  4,  5],\n",
              "       [ 2,  4,  6,  8, 10]])"
            ]
          },
          "metadata": {},
          "execution_count": 20
        }
      ]
    },
    {
      "cell_type": "markdown",
      "metadata": {
        "id": "oGX3sOS7HIMs"
      },
      "source": [
        "Array diatas adalah berbentuk (2,5) artinya mempunyai 2 baris dan 5 kolom\n",
        "\n",
        "Kita bisa melihat jumlah elemen di setiap dimensi dengan menggunakan shape"
      ]
    },
    {
      "cell_type": "code",
      "metadata": {
        "colab": {
          "base_uri": "https://localhost:8080/"
        },
        "id": "ohchT4LJHMDv",
        "outputId": "45a7ae7e-4cdf-4777-bda6-13a32801ffd5"
      },
      "source": [
        "arr_2.shape"
      ],
      "execution_count": 21,
      "outputs": [
        {
          "output_type": "execute_result",
          "data": {
            "text/plain": [
              "(2, 5)"
            ]
          },
          "metadata": {},
          "execution_count": 21
        }
      ]
    },
    {
      "cell_type": "markdown",
      "metadata": {
        "id": "bGpn85DxHSUd"
      },
      "source": [
        "## Indexing dan Slicing\n",
        "\n",
        "Kita juga dapat melakukan indexing dan slicing terhadap array dengan mudah\n",
        "\n",
        "Indexing dimulai dari 0 dan dimulai dengan notasi bracket “[ ]”\n",
        "\n",
        "Misal kita ingin mencari nilai yang berada di index 0, 2, dan 4"
      ]
    },
    {
      "cell_type": "code",
      "metadata": {
        "colab": {
          "base_uri": "https://localhost:8080/"
        },
        "id": "v774LCaQHYVX",
        "outputId": "c6856d3b-bd76-4a3d-9ae0-1cfa27a8dd27"
      },
      "source": [
        "arr_3 = np.array([1,2,3,4,5])\n",
        "print(arr_3[0])\n",
        "print(arr_3[2])\n",
        "print(arr_3[4])"
      ],
      "execution_count": 22,
      "outputs": [
        {
          "output_type": "stream",
          "name": "stdout",
          "text": [
            "1\n",
            "3\n",
            "5\n"
          ]
        }
      ]
    },
    {
      "cell_type": "markdown",
      "metadata": {
        "id": "piTl-Y5fHalT"
      },
      "source": [
        "Untuk mengambil nilai berderet tambahkan “:”"
      ]
    },
    {
      "cell_type": "code",
      "metadata": {
        "colab": {
          "base_uri": "https://localhost:8080/"
        },
        "id": "QFmPhRybHeds",
        "outputId": "2ffa843a-0abd-4347-f3f6-801c766ae601"
      },
      "source": [
        "arr_3 = np.array([1,2,3,4,5])\n",
        "print(arr_3[0:4])"
      ],
      "execution_count": 23,
      "outputs": [
        {
          "output_type": "stream",
          "name": "stdout",
          "text": [
            "[1 2 3 4]\n"
          ]
        }
      ]
    },
    {
      "cell_type": "code",
      "metadata": {
        "colab": {
          "base_uri": "https://localhost:8080/"
        },
        "id": "MdXvKTd6Hf-i",
        "outputId": "84979fcd-f47e-49f0-bf0a-f46df267b48a"
      },
      "source": [
        "arr_4 = np.array([[1,2,3,4,5], [2,4,6,8,10]])\n",
        "print(arr_4)\n",
        "print(arr_4[1,3])"
      ],
      "execution_count": 24,
      "outputs": [
        {
          "output_type": "stream",
          "name": "stdout",
          "text": [
            "[[ 1  2  3  4  5]\n",
            " [ 2  4  6  8 10]]\n",
            "8\n"
          ]
        }
      ]
    },
    {
      "cell_type": "markdown",
      "metadata": {
        "id": "ShOEK0U_Hio3"
      },
      "source": [
        "Nilai pada kolom index ke-1 dan baris index ke-1 adalah 4"
      ]
    },
    {
      "cell_type": "markdown",
      "metadata": {
        "id": "VI4kUIAwHmry"
      },
      "source": [
        "## Operasi Aritmatika\n",
        "\n",
        "Kita bisa menggunakan operasi aritmatika seperti penjumlahan, pengurangan, perkalian, pembagian dan perpangkatan\n",
        "\n",
        "Operator yang digunakan adalah  +, -, *, / dan **\n",
        "\n",
        "Berikut contoh operasi aritmatika pada array"
      ]
    },
    {
      "cell_type": "code",
      "metadata": {
        "colab": {
          "base_uri": "https://localhost:8080/"
        },
        "id": "4_L-_c4OHl-R",
        "outputId": "e428eef4-f83e-408a-f9a1-677a2f770f9e"
      },
      "source": [
        "arr_A = np.array([1,2,3,4,5])\n",
        "arr_B = np.array([2,2,2,2,2])\n",
        "\n",
        "print(\"Penjumlahan = \", arr_A + arr_B)\n",
        "print(\"Pengurangan = \", arr_A - arr_B)\n",
        "print(\"Perkalian = \", arr_A * arr_B)\n",
        "print(\"Pembagian = \", arr_A / arr_B)\n",
        "print(\"Perpangkatan = \", arr_A ** arr_B)"
      ],
      "execution_count": 25,
      "outputs": [
        {
          "output_type": "stream",
          "name": "stdout",
          "text": [
            "Penjumlahan =  [3 4 5 6 7]\n",
            "Pengurangan =  [-1  0  1  2  3]\n",
            "Perkalian =  [ 2  4  6  8 10]\n",
            "Pembagian =  [0.5 1.  1.5 2.  2.5]\n",
            "Perpangkatan =  [ 1  4  9 16 25]\n"
          ]
        }
      ]
    },
    {
      "cell_type": "markdown",
      "metadata": {
        "id": "1ye0l50AJ9V7"
      },
      "source": [
        "## Operasi Matematika\n",
        "\n",
        "NumPy mempunyai fungsi matematika yang dapat digunakan pada Array\n",
        "\n",
        "Beberapa contoh fungsi statistik antara lain min(), max(), mean(), sum(), std()"
      ]
    },
    {
      "cell_type": "code",
      "metadata": {
        "colab": {
          "base_uri": "https://localhost:8080/"
        },
        "id": "pDlBtbGlKDcr",
        "outputId": "a1cbd221-89a4-4e6f-8b5c-cf1b3b0ee163"
      },
      "source": [
        "arr_5 = np.array([1,2,3,4,5])\n",
        "print(\"Nilai minimal = \", arr_5.min())\n",
        "print(\"Nilai maksimal = \", arr_5.max())\n",
        "print(\"Nilai rata-rata = \", arr_5.mean())\n",
        "print(\"Total nilai = \", arr_5.sum())\n",
        "print(\"Standar Deviasi = \", arr_5.std())"
      ],
      "execution_count": 26,
      "outputs": [
        {
          "output_type": "stream",
          "name": "stdout",
          "text": [
            "Nilai minimal =  1\n",
            "Nilai maksimal =  5\n",
            "Nilai rata-rata =  3.0\n",
            "Total nilai =  15\n",
            "Standar Deviasi =  1.4142135623730951\n"
          ]
        }
      ]
    },
    {
      "cell_type": "markdown",
      "metadata": {
        "id": "pE26zl7WKGXY"
      },
      "source": [
        "Ada juga fungsi `argmin()` dan `argmax()` untuk mendapatkan index dari nilai minimum dan maksimum"
      ]
    },
    {
      "cell_type": "code",
      "metadata": {
        "colab": {
          "base_uri": "https://localhost:8080/"
        },
        "id": "U-ulJgXfKPuj",
        "outputId": "01641f89-fd4d-47bd-ee93-e53f13df3027"
      },
      "source": [
        "print(\"Index nilai niminal = \", arr_5.argmin())\n",
        "print(\"Index nilai maksimal = \", arr_5.argmax())"
      ],
      "execution_count": 27,
      "outputs": [
        {
          "output_type": "stream",
          "name": "stdout",
          "text": [
            "Index nilai niminal =  0\n",
            "Index nilai maksimal =  4\n"
          ]
        }
      ]
    },
    {
      "cell_type": "markdown",
      "metadata": {
        "id": "D3HNaKSgKSlZ"
      },
      "source": [
        "## Transformasi Array\n",
        "\n",
        "Kita dapat membuat array baru dari array yang sudah ada melalui berbagai metode transformasi seperti merubah ukuran, menggabungkan dua array atau lebih dan lain sebagainya."
      ]
    },
    {
      "cell_type": "markdown",
      "metadata": {
        "id": "0CmiBDiLKak2"
      },
      "source": [
        "**array.reshape**\n",
        "\n",
        "Metode ini digunakan untuk merubah shape array dengan jumlah elemen yang tidak berubah."
      ]
    },
    {
      "cell_type": "code",
      "metadata": {
        "colab": {
          "base_uri": "https://localhost:8080/"
        },
        "id": "3pZCofl4KdkL",
        "outputId": "3cd2aa44-2f5a-49b8-b4e8-2a1cb5074586"
      },
      "source": [
        "sebelum = np.array([[1,2,3,4],[5,6,7,8]])\n",
        "print(sebelum)\n",
        "\n",
        "sesudah = sebelum.reshape((8,1))\n",
        "print(sesudah)"
      ],
      "execution_count": 28,
      "outputs": [
        {
          "output_type": "stream",
          "name": "stdout",
          "text": [
            "[[1 2 3 4]\n",
            " [5 6 7 8]]\n",
            "[[1]\n",
            " [2]\n",
            " [3]\n",
            " [4]\n",
            " [5]\n",
            " [6]\n",
            " [7]\n",
            " [8]]\n"
          ]
        }
      ]
    },
    {
      "cell_type": "markdown",
      "metadata": {
        "id": "XIycjQ1LKhGw"
      },
      "source": [
        "Perhatikan bahwa array `sebelum` memiliki jumlah elemen 8 (2,4) dan array `sesudah` juga memiliki jumlah elemen 8 (4,2)."
      ]
    },
    {
      "cell_type": "markdown",
      "metadata": {
        "id": "Tht4IA_oKlrC"
      },
      "source": [
        "**array.vstack**\n",
        "\n",
        "Metode ini dilakukan untuk menumpuk beberapa array secara vertikal"
      ]
    },
    {
      "cell_type": "code",
      "metadata": {
        "colab": {
          "base_uri": "https://localhost:8080/"
        },
        "id": "YmeIpXvAKppe",
        "outputId": "212b3a76-ec9f-4164-f6e3-0450e31f2f36"
      },
      "source": [
        "v1 = np.array([1,2,3,4])\n",
        "v2 = np.array([5,6,7,8])\n",
        "\n",
        "np.vstack([v1,v2,v1,v2])"
      ],
      "execution_count": 29,
      "outputs": [
        {
          "output_type": "execute_result",
          "data": {
            "text/plain": [
              "array([[1, 2, 3, 4],\n",
              "       [5, 6, 7, 8],\n",
              "       [1, 2, 3, 4],\n",
              "       [5, 6, 7, 8]])"
            ]
          },
          "metadata": {},
          "execution_count": 29
        }
      ]
    },
    {
      "cell_type": "markdown",
      "metadata": {
        "id": "sO90mGNpKsLm"
      },
      "source": [
        "**array.hstack**\n",
        "\n",
        "Metode ini dilakukan untuk menumpuk beberapa array secara horizontal."
      ]
    },
    {
      "cell_type": "code",
      "metadata": {
        "colab": {
          "base_uri": "https://localhost:8080/"
        },
        "id": "BjH4L9A7KwoU",
        "outputId": "fd033f78-171b-4cd6-c62d-16477f06c742"
      },
      "source": [
        "h1 = np.ones((2,4))\n",
        "h2 = np.zeros((2,2))\n",
        "print(h1)\n",
        "print(h2)\n",
        "\n",
        "print(np.hstack((h1,h2)))"
      ],
      "execution_count": 30,
      "outputs": [
        {
          "output_type": "stream",
          "name": "stdout",
          "text": [
            "[[1. 1. 1. 1.]\n",
            " [1. 1. 1. 1.]]\n",
            "[[0. 0.]\n",
            " [0. 0.]]\n",
            "[[1. 1. 1. 1. 0. 0.]\n",
            " [1. 1. 1. 1. 0. 0.]]\n"
          ]
        }
      ]
    },
    {
      "cell_type": "markdown",
      "metadata": {
        "id": "O4I4g2mHK3dT"
      },
      "source": [
        "# **Representasi Matriks Pada Python**"
      ]
    },
    {
      "cell_type": "markdown",
      "metadata": {
        "id": "tWFoex_hK9Xz"
      },
      "source": [
        "Matriks adalah array 2 dimensi khusus yang mempertahankan sifat 2 dimensinnya melalui operasi. Matriks memiliki operator khusus tertentu, seperti perkalian matriks dan pemangkatan matriks."
      ]
    },
    {
      "cell_type": "markdown",
      "metadata": {
        "id": "T9BolJgDLHlS"
      },
      "source": [
        "Berikut adalah beberapa penulisan python di berbagai platform:\n",
        "\n",
        "![alt text](https://drive.google.com/uc?id=1Vo7_qxBo3AGaKDtS1nym0Q-hq1Rxh2JH\n",
        ")"
      ]
    },
    {
      "cell_type": "markdown",
      "metadata": {
        "id": "rFX78CtcLNPo"
      },
      "source": [
        "Berikut contoh penulisan matriks pada python:"
      ]
    },
    {
      "cell_type": "code",
      "metadata": {
        "id": "9Wzlxrx8LPxV"
      },
      "source": [
        "import numpy as np"
      ],
      "execution_count": 31,
      "outputs": []
    },
    {
      "cell_type": "code",
      "metadata": {
        "colab": {
          "base_uri": "https://localhost:8080/"
        },
        "id": "uYvoNZHALRdg",
        "outputId": "3683e587-0f32-4254-80d7-b03915c964e5"
      },
      "source": [
        "A = np.array([[1, 2], [4, 5]])\n",
        "A"
      ],
      "execution_count": 32,
      "outputs": [
        {
          "output_type": "execute_result",
          "data": {
            "text/plain": [
              "array([[1, 2],\n",
              "       [4, 5]])"
            ]
          },
          "metadata": {},
          "execution_count": 32
        }
      ]
    },
    {
      "cell_type": "code",
      "metadata": {
        "colab": {
          "base_uri": "https://localhost:8080/"
        },
        "id": "FVUyeFh_LU38",
        "outputId": "b81b6ae9-cd93-4039-b950-7d18bf0499b8"
      },
      "source": [
        "B = np.array([[1, 2, 3], [4, 5, 6], [7, 8, 9]])\n",
        "B"
      ],
      "execution_count": 33,
      "outputs": [
        {
          "output_type": "execute_result",
          "data": {
            "text/plain": [
              "array([[1, 2, 3],\n",
              "       [4, 5, 6],\n",
              "       [7, 8, 9]])"
            ]
          },
          "metadata": {},
          "execution_count": 33
        }
      ]
    },
    {
      "cell_type": "markdown",
      "metadata": {
        "id": "caxl8e8eLZH-"
      },
      "source": [
        "# **Operasi Matriks Pada Python**"
      ]
    },
    {
      "cell_type": "code",
      "metadata": {
        "colab": {
          "base_uri": "https://localhost:8080/"
        },
        "id": "_gN83WJhLgbG",
        "outputId": "6fdca419-7ef3-4c25-c57e-e20b66b39f4b"
      },
      "source": [
        "P = np.array([[1, 2], [4, 5]])\n",
        "P"
      ],
      "execution_count": 34,
      "outputs": [
        {
          "output_type": "execute_result",
          "data": {
            "text/plain": [
              "array([[1, 2],\n",
              "       [4, 5]])"
            ]
          },
          "metadata": {},
          "execution_count": 34
        }
      ]
    },
    {
      "cell_type": "code",
      "metadata": {
        "id": "SXkUjAw_Li5H"
      },
      "source": [
        "Q = np.array([[7, 8], [9, 10]])\n",
        "Q"
      ],
      "execution_count": null,
      "outputs": []
    },
    {
      "cell_type": "code",
      "metadata": {
        "colab": {
          "base_uri": "https://localhost:8080/"
        },
        "id": "dER9X0K7Lktg",
        "outputId": "110afad2-12b6-49a0-d4d3-eef764e01d7c"
      },
      "source": [
        "a=29\n",
        "a"
      ],
      "execution_count": 36,
      "outputs": [
        {
          "output_type": "execute_result",
          "data": {
            "text/plain": [
              "29"
            ]
          },
          "metadata": {},
          "execution_count": 36
        }
      ]
    },
    {
      "cell_type": "markdown",
      "metadata": {
        "id": "Xjzr2vAeLorv"
      },
      "source": [
        "**Penjumlahan Matriks**"
      ]
    },
    {
      "cell_type": "code",
      "metadata": {
        "colab": {
          "base_uri": "https://localhost:8080/"
        },
        "id": "XG0zSdYqLsXY",
        "outputId": "3e4ae35a-1a0b-4c30-df86-e30e890589b5"
      },
      "source": [
        "np.add(P,Q)"
      ],
      "execution_count": 37,
      "outputs": [
        {
          "output_type": "execute_result",
          "data": {
            "text/plain": [
              "array([[ 8, 10],\n",
              "       [13, 15]])"
            ]
          },
          "metadata": {},
          "execution_count": 37
        }
      ]
    },
    {
      "cell_type": "markdown",
      "metadata": {
        "id": "6fno70AfLvjV"
      },
      "source": [
        "**Pengurangan Matriks**"
      ]
    },
    {
      "cell_type": "code",
      "metadata": {
        "colab": {
          "base_uri": "https://localhost:8080/"
        },
        "id": "coDRKN-2LvIn",
        "outputId": "578cfe0f-9580-4979-dde6-b3b9ae81d545"
      },
      "source": [
        "np.subtract(P,Q)"
      ],
      "execution_count": 38,
      "outputs": [
        {
          "output_type": "execute_result",
          "data": {
            "text/plain": [
              "array([[-6, -6],\n",
              "       [-5, -5]])"
            ]
          },
          "metadata": {},
          "execution_count": 38
        }
      ]
    },
    {
      "cell_type": "markdown",
      "metadata": {
        "id": "HIAjapuvL0hp"
      },
      "source": [
        "**Perkalian Skalar Matriks**"
      ]
    },
    {
      "cell_type": "code",
      "metadata": {
        "colab": {
          "base_uri": "https://localhost:8080/"
        },
        "id": "H-9KANe9L3bM",
        "outputId": "338d932c-add3-4cdd-ff12-647aee837a7c"
      },
      "source": [
        "a*P"
      ],
      "execution_count": 39,
      "outputs": [
        {
          "output_type": "execute_result",
          "data": {
            "text/plain": [
              "array([[ 29,  58],\n",
              "       [116, 145]])"
            ]
          },
          "metadata": {},
          "execution_count": 39
        }
      ]
    },
    {
      "cell_type": "markdown",
      "metadata": {
        "id": "9ZCDINg3L7Zz"
      },
      "source": [
        "**Perkalian Matriks**"
      ]
    },
    {
      "cell_type": "code",
      "metadata": {
        "colab": {
          "base_uri": "https://localhost:8080/"
        },
        "id": "i_BRh7guMAHQ",
        "outputId": "ebaca459-3bec-4662-b6ae-face420866ec"
      },
      "source": [
        "np.multiply(P,Q)"
      ],
      "execution_count": 40,
      "outputs": [
        {
          "output_type": "execute_result",
          "data": {
            "text/plain": [
              "array([[ 7, 16],\n",
              "       [36, 50]])"
            ]
          },
          "metadata": {},
          "execution_count": 40
        }
      ]
    },
    {
      "cell_type": "markdown",
      "metadata": {
        "id": "qnhhLYETL_UC"
      },
      "source": [
        "**Perkalian Titik Matriks (Dot Product)**"
      ]
    },
    {
      "cell_type": "code",
      "metadata": {
        "colab": {
          "base_uri": "https://localhost:8080/"
        },
        "id": "z2InUNq7MJx0",
        "outputId": "e0bd624d-b211-481e-f8cc-7c184f4eaf97"
      },
      "source": [
        "np.dot(P,Q)"
      ],
      "execution_count": 41,
      "outputs": [
        {
          "output_type": "execute_result",
          "data": {
            "text/plain": [
              "array([[25, 28],\n",
              "       [73, 82]])"
            ]
          },
          "metadata": {},
          "execution_count": 41
        }
      ]
    },
    {
      "cell_type": "markdown",
      "metadata": {
        "id": "y_O1GmWqMNVH"
      },
      "source": [
        "**Transpose Matriks**"
      ]
    },
    {
      "cell_type": "code",
      "metadata": {
        "colab": {
          "base_uri": "https://localhost:8080/"
        },
        "id": "PLTGqVbtMRS1",
        "outputId": "a0e95499-21f9-4113-8c12-87ee626c833a"
      },
      "source": [
        "P.T"
      ],
      "execution_count": 42,
      "outputs": [
        {
          "output_type": "execute_result",
          "data": {
            "text/plain": [
              "array([[1, 4],\n",
              "       [2, 5]])"
            ]
          },
          "metadata": {},
          "execution_count": 42
        }
      ]
    },
    {
      "cell_type": "markdown",
      "metadata": {
        "id": "WpxML1vnMUlA"
      },
      "source": [
        "**Operasi Fungsi Pada Setiap Elemen Matriks - Akar Kuadrat**"
      ]
    },
    {
      "cell_type": "code",
      "metadata": {
        "colab": {
          "base_uri": "https://localhost:8080/"
        },
        "id": "lgtCJSrxMZPX",
        "outputId": "0b173683-5a90-4432-c312-8dd33200eb10"
      },
      "source": [
        "np.sqrt(P)"
      ],
      "execution_count": 43,
      "outputs": [
        {
          "output_type": "execute_result",
          "data": {
            "text/plain": [
              "array([[1.        , 1.41421356],\n",
              "       [2.        , 2.23606798]])"
            ]
          },
          "metadata": {},
          "execution_count": 43
        }
      ]
    },
    {
      "cell_type": "markdown",
      "metadata": {
        "id": "BAsb-Er-Mcpy"
      },
      "source": [
        "**Menjumlahkan Semua Elemen Kolom Sebuah Matriks**"
      ]
    },
    {
      "cell_type": "code",
      "metadata": {
        "colab": {
          "base_uri": "https://localhost:8080/"
        },
        "id": "b0C4EieyMhxD",
        "outputId": "2cb2b29c-7ba9-4140-ae82-7c5303cb66de"
      },
      "source": [
        "Q"
      ],
      "execution_count": 45,
      "outputs": [
        {
          "output_type": "execute_result",
          "data": {
            "text/plain": [
              "array([[ 7,  8],\n",
              "       [ 9, 10]])"
            ]
          },
          "metadata": {},
          "execution_count": 45
        }
      ]
    },
    {
      "cell_type": "code",
      "metadata": {
        "colab": {
          "base_uri": "https://localhost:8080/"
        },
        "id": "5bTMfV7uMj1f",
        "outputId": "9f316a51-a76d-49c7-8b19-2756db3c4ca1"
      },
      "source": [
        "np.sum(Q,axis=1)"
      ],
      "execution_count": 46,
      "outputs": [
        {
          "output_type": "execute_result",
          "data": {
            "text/plain": [
              "array([15, 19])"
            ]
          },
          "metadata": {},
          "execution_count": 46
        }
      ]
    },
    {
      "cell_type": "markdown",
      "metadata": {
        "id": "kytMToBlMnmA"
      },
      "source": [
        "**Menjumlahkan Semua Elemen Baris Sebuah Matriks**"
      ]
    },
    {
      "cell_type": "code",
      "metadata": {
        "colab": {
          "base_uri": "https://localhost:8080/"
        },
        "id": "ksHXbVgJMqNd",
        "outputId": "e2cba3a8-0ea5-4f09-847d-206389333479"
      },
      "source": [
        "np.sum(Q,axis=0)"
      ],
      "execution_count": 47,
      "outputs": [
        {
          "output_type": "execute_result",
          "data": {
            "text/plain": [
              "array([16, 18])"
            ]
          },
          "metadata": {},
          "execution_count": 47
        }
      ]
    },
    {
      "cell_type": "markdown",
      "metadata": {
        "id": "f_YwaljdMzih"
      },
      "source": [
        "# **Aljabar Linear Pada Python**"
      ]
    },
    {
      "cell_type": "markdown",
      "metadata": {
        "id": "5_H679ucM2-2"
      },
      "source": [
        "Dalam modul numpy juga disediakan fungsi-fungsi Aljabar Linear untuk matriks.\n",
        "Beberapa konsep Aljabar Linear yang akan ditunjukkan di modul ini adalah\n",
        "* Determinan\n",
        "* Inverse\n",
        "* Nilai eigen\n",
        "* Vector eigen\n",
        "* Matriks identitas\n",
        "* Matriks satuan\n",
        "* Matriks nol\n",
        "* Matriks segitiga L dan U\n",
        "* Dekomposisi L U matriks"
      ]
    },
    {
      "cell_type": "code",
      "metadata": {
        "colab": {
          "base_uri": "https://localhost:8080/"
        },
        "id": "sF_nU7n5My7r",
        "outputId": "d8fb8924-96c5-4420-a635-1cec330ddf24"
      },
      "source": [
        "A = np.array([[2,3,4],[7, 8, 9],[10, 7, 8]])\n",
        "A"
      ],
      "execution_count": 48,
      "outputs": [
        {
          "output_type": "execute_result",
          "data": {
            "text/plain": [
              "array([[ 2,  3,  4],\n",
              "       [ 7,  8,  9],\n",
              "       [10,  7,  8]])"
            ]
          },
          "metadata": {},
          "execution_count": 48
        }
      ]
    },
    {
      "cell_type": "code",
      "metadata": {
        "colab": {
          "base_uri": "https://localhost:8080/"
        },
        "id": "eznNgtnqNAev",
        "outputId": "21efa663-0647-401a-dcfb-053734dee459"
      },
      "source": [
        "B = np.array([[5,7,4],[6, 8, 9],[1, 2, 6]])\n",
        "B"
      ],
      "execution_count": 49,
      "outputs": [
        {
          "output_type": "execute_result",
          "data": {
            "text/plain": [
              "array([[5, 7, 4],\n",
              "       [6, 8, 9],\n",
              "       [1, 2, 6]])"
            ]
          },
          "metadata": {},
          "execution_count": 49
        }
      ]
    },
    {
      "cell_type": "markdown",
      "metadata": {
        "id": "jUc2cGB7NEH9"
      },
      "source": [
        "**Determinan**"
      ]
    },
    {
      "cell_type": "code",
      "metadata": {
        "colab": {
          "base_uri": "https://localhost:8080/"
        },
        "id": "neXIyjqRNQtD",
        "outputId": "4095336d-f04d-4efc-dfe0-1649ad1e94f9"
      },
      "source": [
        "np.linalg.det(A)"
      ],
      "execution_count": 50,
      "outputs": [
        {
          "output_type": "execute_result",
          "data": {
            "text/plain": [
              "-20.000000000000007"
            ]
          },
          "metadata": {},
          "execution_count": 50
        }
      ]
    },
    {
      "cell_type": "markdown",
      "metadata": {
        "id": "ZU8sc0_-NG_0"
      },
      "source": [
        "**Inverse Matriks**"
      ]
    },
    {
      "cell_type": "code",
      "metadata": {
        "colab": {
          "base_uri": "https://localhost:8080/"
        },
        "id": "QFVuHvcRNTAg",
        "outputId": "91fd11a0-f10a-44be-ed24-9f4ad70528b2"
      },
      "source": [
        "np.linalg.inv(A)"
      ],
      "execution_count": 51,
      "outputs": [
        {
          "output_type": "execute_result",
          "data": {
            "text/plain": [
              "array([[-0.05, -0.2 ,  0.25],\n",
              "       [-1.7 ,  1.2 , -0.5 ],\n",
              "       [ 1.55, -0.8 ,  0.25]])"
            ]
          },
          "metadata": {},
          "execution_count": 51
        }
      ]
    },
    {
      "cell_type": "markdown",
      "metadata": {
        "id": "z6a96BkGNOEI"
      },
      "source": [
        "**Nilai Eigen dan Vector Eigen**"
      ]
    },
    {
      "cell_type": "code",
      "metadata": {
        "colab": {
          "base_uri": "https://localhost:8080/"
        },
        "id": "FcvZbrVfNXc3",
        "outputId": "6e917ee9-fcbb-43e6-ba61-2ca25b604db7"
      },
      "source": [
        "eig, vec_eig = np.linalg.eig(A)\n",
        "print('Nilai eigen matriks A:')\n",
        "print(eig)\n",
        "print('Vektor eigen matriks A:')\n",
        "print(vec_eig)"
      ],
      "execution_count": 52,
      "outputs": [
        {
          "output_type": "stream",
          "name": "stdout",
          "text": [
            "Nilai eigen matriks A:\n",
            "[19.39079317 -1.9262474   0.53545423]\n",
            "Vektor eigen matriks A:\n",
            "[[-0.27295093 -0.54761756  0.15754422]\n",
            " [-0.6940728  -0.31621014 -0.8168342 ]\n",
            " [-0.66615369  0.7746781   0.55494297]]\n"
          ]
        }
      ]
    },
    {
      "cell_type": "markdown",
      "metadata": {
        "id": "f89cpO_fNfpc"
      },
      "source": [
        "**Matriks Identitas**"
      ]
    },
    {
      "cell_type": "code",
      "metadata": {
        "colab": {
          "base_uri": "https://localhost:8080/"
        },
        "id": "sO_QSLdrNlKW",
        "outputId": "6c5c1796-0e27-462e-a5a2-a06a2b5e79e4"
      },
      "source": [
        "Identitas=np.identity(5)\n",
        "print(Identitas)"
      ],
      "execution_count": 53,
      "outputs": [
        {
          "output_type": "stream",
          "name": "stdout",
          "text": [
            "[[1. 0. 0. 0. 0.]\n",
            " [0. 1. 0. 0. 0.]\n",
            " [0. 0. 1. 0. 0.]\n",
            " [0. 0. 0. 1. 0.]\n",
            " [0. 0. 0. 0. 1.]]\n"
          ]
        }
      ]
    },
    {
      "cell_type": "code",
      "metadata": {
        "colab": {
          "base_uri": "https://localhost:8080/"
        },
        "id": "WbQFh0jFNoWz",
        "outputId": "cd95b56c-79e8-4007-801e-c785f7b6d6b0"
      },
      "source": [
        "Identitas[:,3]"
      ],
      "execution_count": 54,
      "outputs": [
        {
          "output_type": "execute_result",
          "data": {
            "text/plain": [
              "array([0., 0., 0., 1., 0.])"
            ]
          },
          "metadata": {},
          "execution_count": 54
        }
      ]
    },
    {
      "cell_type": "markdown",
      "metadata": {
        "id": "gWNDUPd0Nq0d"
      },
      "source": [
        "**Matriks Satuan**"
      ]
    },
    {
      "cell_type": "code",
      "metadata": {
        "id": "61BTHgCuNwmw"
      },
      "source": [
        "Satuan=np.ones((2,3))\n",
        "Satuan"
      ],
      "execution_count": null,
      "outputs": []
    },
    {
      "cell_type": "markdown",
      "metadata": {
        "id": "Br9GnQzUNvzq"
      },
      "source": [
        "**Matriks Nol**"
      ]
    },
    {
      "cell_type": "code",
      "metadata": {
        "colab": {
          "base_uri": "https://localhost:8080/"
        },
        "id": "S4VpYIk_N2Lo",
        "outputId": "39def25e-f387-445c-85bd-2ef83850b9e3"
      },
      "source": [
        "MatriksNol=np.zeros(10)\n",
        "MatriksNol"
      ],
      "execution_count": 55,
      "outputs": [
        {
          "output_type": "execute_result",
          "data": {
            "text/plain": [
              "array([0., 0., 0., 0., 0., 0., 0., 0., 0., 0.])"
            ]
          },
          "metadata": {},
          "execution_count": 55
        }
      ]
    },
    {
      "cell_type": "markdown",
      "metadata": {
        "id": "ttcLa79pN4Zv"
      },
      "source": [
        "**Matriks Segitiga Atas dan Bawah**"
      ]
    },
    {
      "cell_type": "code",
      "metadata": {
        "colab": {
          "base_uri": "https://localhost:8080/"
        },
        "id": "ETWOyLD8N_ZF",
        "outputId": "46d2ee9e-c5d5-4acf-b903-e88082383f9f"
      },
      "source": [
        "M=np.array([[1,2,3],[4,5,6],[7,8,9]])\n",
        "M"
      ],
      "execution_count": 56,
      "outputs": [
        {
          "output_type": "execute_result",
          "data": {
            "text/plain": [
              "array([[1, 2, 3],\n",
              "       [4, 5, 6],\n",
              "       [7, 8, 9]])"
            ]
          },
          "metadata": {},
          "execution_count": 56
        }
      ]
    },
    {
      "cell_type": "code",
      "metadata": {
        "colab": {
          "base_uri": "https://localhost:8080/"
        },
        "id": "ejpxh7deOBI8",
        "outputId": "a600646f-a8e1-44e1-c353-9d1b1503ed16"
      },
      "source": [
        "Lower=np.tril(M, -1)\n",
        "Lower"
      ],
      "execution_count": 57,
      "outputs": [
        {
          "output_type": "execute_result",
          "data": {
            "text/plain": [
              "array([[0, 0, 0],\n",
              "       [4, 0, 0],\n",
              "       [7, 8, 0]])"
            ]
          },
          "metadata": {},
          "execution_count": 57
        }
      ]
    },
    {
      "cell_type": "code",
      "metadata": {
        "colab": {
          "base_uri": "https://localhost:8080/"
        },
        "id": "GXU-y0dmOEOS",
        "outputId": "abc2357b-82ed-4c6c-d6dc-8ccbf1c892ba"
      },
      "source": [
        "Upper=np.triu(M, 1)\n",
        "Upper"
      ],
      "execution_count": 58,
      "outputs": [
        {
          "output_type": "execute_result",
          "data": {
            "text/plain": [
              "array([[0, 2, 3],\n",
              "       [0, 0, 6],\n",
              "       [0, 0, 0]])"
            ]
          },
          "metadata": {},
          "execution_count": 58
        }
      ]
    },
    {
      "cell_type": "markdown",
      "metadata": {
        "id": "gpOABjmyN8Zp"
      },
      "source": [
        "**Matriks Dekomposisi LU**"
      ]
    },
    {
      "cell_type": "code",
      "metadata": {
        "colab": {
          "base_uri": "https://localhost:8080/"
        },
        "id": "-OFOvzBeOKi0",
        "outputId": "1be336d1-c60f-4c26-ea12-c63d5db11db9"
      },
      "source": [
        "import numpy as np\n",
        "import scipy.linalg as la\n",
        "np.set_printoptions(suppress=True)\n",
        "\n",
        "P, L, U = la.lu(A)\n",
        "print(P)\n",
        "\n",
        "print(L)\n",
        "\n",
        "print(U)"
      ],
      "execution_count": 59,
      "outputs": [
        {
          "output_type": "stream",
          "name": "stdout",
          "text": [
            "[[0. 0. 1.]\n",
            " [0. 1. 0.]\n",
            " [1. 0. 0.]]\n",
            "[[1.         0.         0.        ]\n",
            " [0.7        1.         0.        ]\n",
            " [0.2        0.51612903 1.        ]]\n",
            "[[10.          7.          8.        ]\n",
            " [ 0.          3.1         3.4       ]\n",
            " [ 0.          0.          0.64516129]]\n"
          ]
        }
      ]
    },
    {
      "cell_type": "markdown",
      "metadata": {
        "id": "6Ji4sLjUOPYo"
      },
      "source": [
        "# **Membangun Matriks Menggunakan Perulangan**"
      ]
    },
    {
      "cell_type": "code",
      "metadata": {
        "colab": {
          "base_uri": "https://localhost:8080/"
        },
        "id": "7w5VmH4VOT1M",
        "outputId": "7843c07f-259e-405a-97c9-53ef15a54acc"
      },
      "source": [
        "C = np.arange(0,10,1)\n",
        "C"
      ],
      "execution_count": 60,
      "outputs": [
        {
          "output_type": "execute_result",
          "data": {
            "text/plain": [
              "array([0, 1, 2, 3, 4, 5, 6, 7, 8, 9])"
            ]
          },
          "metadata": {},
          "execution_count": 60
        }
      ]
    },
    {
      "cell_type": "code",
      "metadata": {
        "colab": {
          "base_uri": "https://localhost:8080/"
        },
        "id": "Oif2qPWkOVuH",
        "outputId": "165ef40d-e2b5-475a-eec4-5320afb7f536"
      },
      "source": [
        "C**2"
      ],
      "execution_count": 61,
      "outputs": [
        {
          "output_type": "execute_result",
          "data": {
            "text/plain": [
              "array([ 0,  1,  4,  9, 16, 25, 36, 49, 64, 81])"
            ]
          },
          "metadata": {},
          "execution_count": 61
        }
      ]
    },
    {
      "cell_type": "code",
      "metadata": {
        "colab": {
          "base_uri": "https://localhost:8080/"
        },
        "id": "ErqmKIoYOmgb",
        "outputId": "061ae4d3-f12b-4ad1-e335-3f208c1bf1bc"
      },
      "source": [
        "L = []\n",
        "for i in C:\n",
        "  L.append(i+1)\n",
        "L"
      ],
      "execution_count": 62,
      "outputs": [
        {
          "output_type": "execute_result",
          "data": {
            "text/plain": [
              "[1, 2, 3, 4, 5, 6, 7, 8, 9, 10]"
            ]
          },
          "metadata": {},
          "execution_count": 62
        }
      ]
    },
    {
      "cell_type": "code",
      "metadata": {
        "colab": {
          "base_uri": "https://localhost:8080/"
        },
        "id": "KvKJqeAnOska",
        "outputId": "8198a142-b989-4cef-e33a-0a4f63e1c4ca"
      },
      "source": [
        "A=np.zeros([3,4])\n",
        "baris, kolom = np.shape(A)\n",
        "print(baris)\n",
        "print(kolom)\n",
        "print(A)\n",
        "arr=[]\n",
        "for i in range(baris):\n",
        "    arr.append([])\n",
        "    print(arr)\n",
        "    for j in range(kolom):\n",
        "        arr[i].append((i+j)*2)\n",
        "        print(arr)\n",
        "print(np.array(arr))"
      ],
      "execution_count": 63,
      "outputs": [
        {
          "output_type": "stream",
          "name": "stdout",
          "text": [
            "3\n",
            "4\n",
            "[[0. 0. 0. 0.]\n",
            " [0. 0. 0. 0.]\n",
            " [0. 0. 0. 0.]]\n",
            "[[]]\n",
            "[[0]]\n",
            "[[0, 2]]\n",
            "[[0, 2, 4]]\n",
            "[[0, 2, 4, 6]]\n",
            "[[0, 2, 4, 6], []]\n",
            "[[0, 2, 4, 6], [2]]\n",
            "[[0, 2, 4, 6], [2, 4]]\n",
            "[[0, 2, 4, 6], [2, 4, 6]]\n",
            "[[0, 2, 4, 6], [2, 4, 6, 8]]\n",
            "[[0, 2, 4, 6], [2, 4, 6, 8], []]\n",
            "[[0, 2, 4, 6], [2, 4, 6, 8], [4]]\n",
            "[[0, 2, 4, 6], [2, 4, 6, 8], [4, 6]]\n",
            "[[0, 2, 4, 6], [2, 4, 6, 8], [4, 6, 8]]\n",
            "[[0, 2, 4, 6], [2, 4, 6, 8], [4, 6, 8, 10]]\n",
            "[[ 0  2  4  6]\n",
            " [ 2  4  6  8]\n",
            " [ 4  6  8 10]]\n"
          ]
        }
      ]
    },
    {
      "cell_type": "markdown",
      "metadata": {
        "id": "ZhhnxqtzOTdU"
      },
      "source": [
        "# Latihan\n",
        "\n",
        "1. Buatlah array matriks identitas dengan ukuran 20x20!"
      ]
    },
    {
      "cell_type": "code",
      "metadata": {
        "colab": {
          "base_uri": "https://localhost:8080/"
        },
        "id": "ForJkp1nO5kF",
        "outputId": "1a15e7ef-7ea8-446b-c893-e17162e19fb8"
      },
      "source": [
        "print(np.identity(20))"
      ],
      "execution_count": 64,
      "outputs": [
        {
          "output_type": "stream",
          "name": "stdout",
          "text": [
            "[[1. 0. 0. 0. 0. 0. 0. 0. 0. 0. 0. 0. 0. 0. 0. 0. 0. 0. 0. 0.]\n",
            " [0. 1. 0. 0. 0. 0. 0. 0. 0. 0. 0. 0. 0. 0. 0. 0. 0. 0. 0. 0.]\n",
            " [0. 0. 1. 0. 0. 0. 0. 0. 0. 0. 0. 0. 0. 0. 0. 0. 0. 0. 0. 0.]\n",
            " [0. 0. 0. 1. 0. 0. 0. 0. 0. 0. 0. 0. 0. 0. 0. 0. 0. 0. 0. 0.]\n",
            " [0. 0. 0. 0. 1. 0. 0. 0. 0. 0. 0. 0. 0. 0. 0. 0. 0. 0. 0. 0.]\n",
            " [0. 0. 0. 0. 0. 1. 0. 0. 0. 0. 0. 0. 0. 0. 0. 0. 0. 0. 0. 0.]\n",
            " [0. 0. 0. 0. 0. 0. 1. 0. 0. 0. 0. 0. 0. 0. 0. 0. 0. 0. 0. 0.]\n",
            " [0. 0. 0. 0. 0. 0. 0. 1. 0. 0. 0. 0. 0. 0. 0. 0. 0. 0. 0. 0.]\n",
            " [0. 0. 0. 0. 0. 0. 0. 0. 1. 0. 0. 0. 0. 0. 0. 0. 0. 0. 0. 0.]\n",
            " [0. 0. 0. 0. 0. 0. 0. 0. 0. 1. 0. 0. 0. 0. 0. 0. 0. 0. 0. 0.]\n",
            " [0. 0. 0. 0. 0. 0. 0. 0. 0. 0. 1. 0. 0. 0. 0. 0. 0. 0. 0. 0.]\n",
            " [0. 0. 0. 0. 0. 0. 0. 0. 0. 0. 0. 1. 0. 0. 0. 0. 0. 0. 0. 0.]\n",
            " [0. 0. 0. 0. 0. 0. 0. 0. 0. 0. 0. 0. 1. 0. 0. 0. 0. 0. 0. 0.]\n",
            " [0. 0. 0. 0. 0. 0. 0. 0. 0. 0. 0. 0. 0. 1. 0. 0. 0. 0. 0. 0.]\n",
            " [0. 0. 0. 0. 0. 0. 0. 0. 0. 0. 0. 0. 0. 0. 1. 0. 0. 0. 0. 0.]\n",
            " [0. 0. 0. 0. 0. 0. 0. 0. 0. 0. 0. 0. 0. 0. 0. 1. 0. 0. 0. 0.]\n",
            " [0. 0. 0. 0. 0. 0. 0. 0. 0. 0. 0. 0. 0. 0. 0. 0. 1. 0. 0. 0.]\n",
            " [0. 0. 0. 0. 0. 0. 0. 0. 0. 0. 0. 0. 0. 0. 0. 0. 0. 1. 0. 0.]\n",
            " [0. 0. 0. 0. 0. 0. 0. 0. 0. 0. 0. 0. 0. 0. 0. 0. 0. 0. 1. 0.]\n",
            " [0. 0. 0. 0. 0. 0. 0. 0. 0. 0. 0. 0. 0. 0. 0. 0. 0. 0. 0. 1.]]\n"
          ]
        }
      ]
    },
    {
      "cell_type": "markdown",
      "metadata": {
        "id": "2yzv4icqPCGS"
      },
      "source": [
        "2. Buatlah array matriks dengan ukuran sesuai dengan array c dan dengan elemennya adalah bilangan 112!\n",
        "\n",
        "\n",
        "```\n",
        "c=[20, 60, 50, 70, 90, 78, 46, 56]\n",
        "```\n",
        "\n"
      ]
    },
    {
      "cell_type": "code",
      "metadata": {
        "colab": {
          "base_uri": "https://localhost:8080/"
        },
        "id": "D8p0OJn6POUp",
        "outputId": "1d3f1577-cb17-4238-f1ac-e15ed1b6f98d"
      },
      "source": [
        "c = np.array([[20, 60, 50, 70, 90, 78, 46, 56]])\n",
        "\n",
        "print(np.full_like(c, 112))"
      ],
      "execution_count": 65,
      "outputs": [
        {
          "output_type": "stream",
          "name": "stdout",
          "text": [
            "[[112 112 112 112 112 112 112 112]]\n"
          ]
        }
      ]
    }
  ]
}